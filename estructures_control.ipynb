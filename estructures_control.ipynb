{
 "cells": [
  {
   "cell_type": "markdown",
   "metadata": {},
   "source": [
    "# IT Academy - Data Science amb Python\n",
    "## Tasca 3: Estructura de control\n",
    "\n",
    "###  [Github Estructura de control](https://github.com/jesussantana/estructures_control)"
   ]
  },
  {
   "cell_type": "markdown",
   "metadata": {},
   "source": [
    "###  Exercici 1\n",
    "- L'exercici consisteix a crear un programa que et classifiqui una variable numèrica en funció de l’escala Suspès/Aprovat/Notable/Excel·lent."
   ]
  },
  {
   "cell_type": "code",
   "execution_count": 1,
   "metadata": {},
   "outputs": [
    {
     "name": "stdout",
     "output_type": "stream",
     "text": [
      "Suspès\n",
      "Aprovat\n",
      "Notable\n",
      "Excel·lent\n",
      "Nota invalida\n",
      "Nota invalida\n"
     ]
    }
   ],
   "source": [
    "def nota(num):\n",
    "    if num < 0 or num > 10:\n",
    "        return \"Nota invalida\"\n",
    "    if num < 5:\n",
    "        return \"Suspès\"\n",
    "    elif num < 7.5: \n",
    "        return \"Aprovat\"\n",
    "    elif num < 9: \n",
    "        return \"Notable\"\n",
    "    else: \n",
    "        return \"Excel·lent\"\n",
    "    \n",
    "\n",
    "print(nota(3))\n",
    "print(nota(6))\n",
    "print(nota(7.6))\n",
    "print(nota(9))\n",
    "print(nota(11))\n",
    "print(nota(-1))"
   ]
  },
  {
   "cell_type": "markdown",
   "metadata": {},
   "source": [
    "###  Exercici 1\n",
    "- Utilitzant el següent tutorial Programiz: [Python Input, Output and Import](https://www.programiz.com/python-programming/input-output-import) crea un programa que et pregunti dos números. T’ha de mostrar un missatge dient si el primer és més gran, el segon és més gran o són iguals."
   ]
  },
  {
   "cell_type": "code",
   "execution_count": 12,
   "metadata": {},
   "outputs": [
    {
     "name": "stdout",
     "output_type": "stream",
     "text": [
      "Primer número: 8\n",
      "Segón número: 5\n",
      "8 es major que 5.\n",
      "Primer número: -1\n",
      "Segón número: 6\n",
      "-1 es menor que 6.\n",
      "Primer número: 4\n",
      "Segón número: f\n",
      "f no és vàlid\n"
     ]
    }
   ],
   "source": [
    "def validaNum(num):\n",
    "    try:\n",
    "        number = float(num)\n",
    "    except:\n",
    "        print(f\"{num} no és vàlid\")\n",
    "        return False\n",
    "    else:\n",
    "        return True     \n",
    "    \n",
    "def compara(x, y):\n",
    "    \n",
    "    if validaNum(x) & validaNum(y):\n",
    "        if x > y:\n",
    "            return print(f\"{x} es major que {y}.\")\n",
    "        elif x < y:\n",
    "            return print(f\"{x} es menor que {y}.\")\n",
    "        else:\n",
    "            return print(f\"{x} es igual que {y}.\")\n",
    "    \n",
    "    \n",
    "def inNumbers():\n",
    "\n",
    "    firstNumber = input(\"Primer número: \")\n",
    "    secondNumber = input(\"Segón número: \")\n",
    "\n",
    "    compara (firstNumber ,secondNumber)\n",
    "    \n",
    "inNumbers()\n",
    "inNumbers()\n",
    "inNumbers()\n",
    "    "
   ]
  },
  {
   "cell_type": "code",
   "execution_count": null,
   "metadata": {},
   "outputs": [],
   "source": []
  },
  {
   "cell_type": "code",
   "execution_count": null,
   "metadata": {},
   "outputs": [],
   "source": []
  }
 ],
 "metadata": {
  "kernelspec": {
   "display_name": "Python 3",
   "language": "python",
   "name": "python3"
  },
  "language_info": {
   "codemirror_mode": {
    "name": "ipython",
    "version": 3
   },
   "file_extension": ".py",
   "mimetype": "text/x-python",
   "name": "python",
   "nbconvert_exporter": "python",
   "pygments_lexer": "ipython3",
   "version": "3.8.5"
  }
 },
 "nbformat": 4,
 "nbformat_minor": 4
}
