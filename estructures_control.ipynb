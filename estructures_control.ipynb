{
 "cells": [
  {
   "cell_type": "markdown",
   "metadata": {},
   "source": [
    "# IT Academy - Data Science amb Python\n",
    "## Tasca 3: Estructura de control\n",
    "\n",
    "###  [Github Estructura de control](https://github.com/jesussantana/estructures_control)"
   ]
  },
  {
   "cell_type": "markdown",
   "metadata": {},
   "source": [
    "###  Exercici 1\n",
    "- L'exercici consisteix a crear un programa que et classifiqui una variable numèrica en funció de l’escala Suspès/Aprovat/Notable/Excel·lent."
   ]
  },
  {
   "cell_type": "code",
   "execution_count": 1,
   "metadata": {},
   "outputs": [
    {
     "name": "stdout",
     "output_type": "stream",
     "text": [
      "Suspès\n",
      "Aprovat\n",
      "Notable\n",
      "Excel·lent\n",
      "Nota invalida\n",
      "Nota invalida\n"
     ]
    }
   ],
   "source": [
    "def nota(num):\n",
    "    if num < 0 or num > 10:\n",
    "        return \"Nota invalida\"\n",
    "    if num < 5:\n",
    "        return \"Suspès\"\n",
    "    elif num < 7.5: \n",
    "        return \"Aprovat\"\n",
    "    elif num < 9: \n",
    "        return \"Notable\"\n",
    "    else: \n",
    "        return \"Excel·lent\"\n",
    "    \n",
    "\n",
    "print(nota(3))\n",
    "print(nota(6))\n",
    "print(nota(7.6))\n",
    "print(nota(9))\n",
    "print(nota(11))\n",
    "print(nota(-1))"
   ]
  },
  {
   "cell_type": "markdown",
   "metadata": {},
   "source": [
    "###  Exercici 2\n",
    "- Utilitzant el següent tutorial Programiz: [Python Input, Output and Import](https://www.programiz.com/python-programming/input-output-import) crea un programa que et pregunti dos números. T’ha de mostrar un missatge dient si el primer és més gran, el segon és més gran o són iguals."
   ]
  },
  {
   "cell_type": "code",
   "execution_count": 14,
   "metadata": {},
   "outputs": [
    {
     "name": "stdout",
     "output_type": "stream",
     "text": [
      "Primer número: 8\n",
      "Segón número: 4\n",
      "8 es major que 4.\n",
      "Primer número: -1\n",
      "Segón número: 5\n",
      "-1 es menor que 5.\n",
      "Primer número: 3\n",
      "Segón número: 3\n",
      "3 es igual que 3.\n",
      "Primer número: 6\n",
      "Segón número: f\n",
      "f no és vàlid\n"
     ]
    }
   ],
   "source": [
    "def validaNum(num):\n",
    "    try:\n",
    "        number = float(num)\n",
    "    except:\n",
    "        print(f\"{num} no és vàlid\")\n",
    "        return False\n",
    "    else:\n",
    "        return True     \n",
    "    \n",
    "def compara(x, y):\n",
    "    \n",
    "    if validaNum(x) & validaNum(y):\n",
    "        if x > y:\n",
    "            return print(f\"{x} es major que {y}.\")\n",
    "        elif x < y:\n",
    "            return print(f\"{x} es menor que {y}.\")\n",
    "        else:\n",
    "            return print(f\"{x} es igual que {y}.\")\n",
    "    \n",
    "    \n",
    "def inNumbers():\n",
    "\n",
    "    firstNumber = input(\"Primer número: \")\n",
    "    secondNumber = input(\"Segón número: \")\n",
    "\n",
    "    compara (firstNumber ,secondNumber)\n",
    "    \n",
    "inNumbers()\n",
    "inNumbers()\n",
    "inNumbers()\n",
    "inNumbers()\n",
    "    "
   ]
  },
  {
   "cell_type": "markdown",
   "metadata": {},
   "source": [
    "###  Exercici 3\n",
    "- Crea un programa que et pregunti el teu nom, i et demani un número. Si el número és 0, hauria de mostrar un missatge d’error. En cas contrari, hauria de mostrar el nom repetit tants cops com indiqui el número. Per exemple, “Joan Joan Joan”."
   ]
  },
  {
   "cell_type": "code",
   "execution_count": 46,
   "metadata": {},
   "outputs": [
    {
     "name": "stdout",
     "output_type": "stream",
     "text": [
      "Introdueix el teu nom : Jesús\n",
      "Introdueix un número per repetir el teu nom: 3\n",
      "Jesús\n",
      "Jesús\n",
      "Jesús\n",
      "Introdueix el teu nom : Pepe\n",
      "Introdueix un número per repetir el teu nom: -1\n",
      "No puc repetir el teu nom -1 cops\n",
      "Introdueix el teu nom : Joan\n",
      "Introdueix un número per repetir el teu nom: g\n",
      "g no és vàlid\n"
     ]
    }
   ],
   "source": [
    "def repeatName():\n",
    "    name = str(input(\"Introdueix el teu nom : \"))\n",
    "    num = input(\"Introdueix un número per repetir el teu nom: \")\n",
    "    \n",
    "    if validaNum(num):\n",
    "        number = int(num)\n",
    "        if number <= 0:\n",
    "            print (f\"No puc repetir el teu nom {num} cops\")\n",
    "        else:\n",
    "            for repeat in range(number):\n",
    "                print(name)\n",
    "    \n",
    "                       \n",
    "repeatName()\n",
    "repeatName() \n",
    "repeatName() "
   ]
  },
  {
   "cell_type": "markdown",
   "metadata": {},
   "source": [
    "###  Exercici 4\n",
    "- Crea un programa que donada una llista qualsevol, et digui si es simètrica o no. Si ho és, que et digui quants elements té."
   ]
  },
  {
   "cell_type": "code",
   "execution_count": 50,
   "metadata": {},
   "outputs": [
    {
     "name": "stdout",
     "output_type": "stream",
     "text": [
      "[0, 1, 2, 3, 4] No es una llista simètrica\n",
      "[1, 2, 2, 1] És una llista és simètrica i te 4 elements\n",
      "['pepe', 'pedro', 'pepe'] És una llista és simètrica i te 3 elements\n",
      "['a', 'b', 'b', 'c'] No es una llista simètrica\n"
     ]
    }
   ],
   "source": [
    "def symmetricList(list):\n",
    "  \n",
    "    reverseList = list[::-1]\n",
    "    \n",
    "    if list != reverseList:\n",
    "        print(f\"{list} No es una llista simètrica\")\n",
    "    else:\n",
    "        print(f\"{list} És una llista és simètrica i te {len(list)} elements\")\n",
    "        \n",
    "symmetricList([0, 1, 2, 3, 4])\n",
    "symmetricList([1, 2, 2, 1])\n",
    "symmetricList([\"pepe\", \"pedro\", \"pepe\"])\n",
    "symmetricList([\"a\", \"b\", \"b\", \"c\"])"
   ]
  },
  {
   "cell_type": "code",
   "execution_count": null,
   "metadata": {},
   "outputs": [],
   "source": []
  }
 ],
 "metadata": {
  "kernelspec": {
   "display_name": "Python 3",
   "language": "python",
   "name": "python3"
  },
  "language_info": {
   "codemirror_mode": {
    "name": "ipython",
    "version": 3
   },
   "file_extension": ".py",
   "mimetype": "text/x-python",
   "name": "python",
   "nbconvert_exporter": "python",
   "pygments_lexer": "ipython3",
   "version": "3.8.5"
  }
 },
 "nbformat": 4,
 "nbformat_minor": 4
}
